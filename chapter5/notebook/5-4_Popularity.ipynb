{
 "cells": [
  {
   "cell_type": "markdown",
   "id": "4ffa2166",
   "metadata": {},
   "source": [
    "# 人気度順推薦\n",
    "## 人気度の定義\n",
    "* 今回は評価値が高いものを人気が髙い映画とする\n",
    "* 人気度の定義は「クリック数が多いもの」「購入が多いもの」「評価値が髙いもの」など複数あり、自社サービスに最も適した定義を利用\n"
   ]
  },
  {
   "cell_type": "code",
   "execution_count": 1,
   "id": "13333f1c",
   "metadata": {},
   "outputs": [],
   "source": [
    "# 親のフォルダのパスを追加\n",
    "import sys; sys.path.insert(0, '..')\n",
    "\n",
    "from util.data_loader import DataLoader\n",
    "from util.metric_calculator import MetricCalculator"
   ]
  },
  {
   "cell_type": "code",
   "execution_count": 2,
   "id": "f0b3a8f5",
   "metadata": {},
   "outputs": [],
   "source": [
    "# Movielensのデータの読み込み\n",
    "data_loader = DataLoader(num_users=1000, num_test_items=5, data_path='../data/ml-10M100K/')\n",
    "movielens = data_loader.load()"
   ]
  },
  {
   "cell_type": "code",
   "execution_count": 11,
   "id": "a4e56039",
   "metadata": {},
   "outputs": [
    {
     "data": {
      "text/html": [
       "<div>\n",
       "<style scoped>\n",
       "    .dataframe tbody tr th:only-of-type {\n",
       "        vertical-align: middle;\n",
       "    }\n",
       "\n",
       "    .dataframe tbody tr th {\n",
       "        vertical-align: top;\n",
       "    }\n",
       "\n",
       "    .dataframe thead tr th {\n",
       "        text-align: left;\n",
       "    }\n",
       "\n",
       "    .dataframe thead tr:last-of-type th {\n",
       "        text-align: right;\n",
       "    }\n",
       "</style>\n",
       "<table border=\"1\" class=\"dataframe\">\n",
       "  <thead>\n",
       "    <tr>\n",
       "      <th></th>\n",
       "      <th></th>\n",
       "      <th colspan=\"2\" halign=\"left\">rating</th>\n",
       "    </tr>\n",
       "    <tr>\n",
       "      <th></th>\n",
       "      <th></th>\n",
       "      <th>size</th>\n",
       "      <th>mean</th>\n",
       "    </tr>\n",
       "    <tr>\n",
       "      <th>movie_id</th>\n",
       "      <th>title</th>\n",
       "      <th></th>\n",
       "      <th></th>\n",
       "    </tr>\n",
       "  </thead>\n",
       "  <tbody>\n",
       "    <tr>\n",
       "      <th>7831</th>\n",
       "      <th>Another Thin Man (1939)</th>\n",
       "      <td>1</td>\n",
       "      <td>5.0</td>\n",
       "    </tr>\n",
       "    <tr>\n",
       "      <th>4354</th>\n",
       "      <th>Unlawful Entry (1992)</th>\n",
       "      <td>1</td>\n",
       "      <td>5.0</td>\n",
       "    </tr>\n",
       "    <tr>\n",
       "      <th>7227</th>\n",
       "      <th>Trouble with Angels, The (1966)</th>\n",
       "      <td>1</td>\n",
       "      <td>5.0</td>\n",
       "    </tr>\n",
       "    <tr>\n",
       "      <th>6426</th>\n",
       "      <th>Far Country, The (1954)</th>\n",
       "      <td>1</td>\n",
       "      <td>5.0</td>\n",
       "    </tr>\n",
       "    <tr>\n",
       "      <th>32460</th>\n",
       "      <th>Knockin' On Heaven's Door (1997)</th>\n",
       "      <td>1</td>\n",
       "      <td>5.0</td>\n",
       "    </tr>\n",
       "  </tbody>\n",
       "</table>\n",
       "</div>"
      ],
      "text/plain": [
       "                                          rating     \n",
       "                                            size mean\n",
       "movie_id title                                       \n",
       "7831     Another Thin Man (1939)               1  5.0\n",
       "4354     Unlawful Entry (1992)                 1  5.0\n",
       "7227     Trouble with Angels, The (1966)       1  5.0\n",
       "6426     Far Country, The (1954)               1  5.0\n",
       "32460    Knockin' On Heaven's Door (1997)      1  5.0"
      ]
     },
     "execution_count": 11,
     "metadata": {},
     "output_type": "execute_result"
    }
   ],
   "source": [
    "import numpy as np\n",
    "# 評価値が髙い映画の確認\n",
    "movie_stats = movielens.train.groupby(['movie_id', 'title']).agg({'rating': ['size', 'mean']})\n",
    "movie_stats.sort_values(by=('rating', 'mean'), ascending=False).head()"
   ]
  },
  {
   "cell_type": "code",
   "execution_count": 12,
   "id": "fcb5ac3e",
   "metadata": {},
   "outputs": [
    {
     "data": {
      "text/html": [
       "<div>\n",
       "<style scoped>\n",
       "    .dataframe tbody tr th:only-of-type {\n",
       "        vertical-align: middle;\n",
       "    }\n",
       "\n",
       "    .dataframe tbody tr th {\n",
       "        vertical-align: top;\n",
       "    }\n",
       "\n",
       "    .dataframe thead tr th {\n",
       "        text-align: left;\n",
       "    }\n",
       "\n",
       "    .dataframe thead tr:last-of-type th {\n",
       "        text-align: right;\n",
       "    }\n",
       "</style>\n",
       "<table border=\"1\" class=\"dataframe\">\n",
       "  <thead>\n",
       "    <tr>\n",
       "      <th></th>\n",
       "      <th></th>\n",
       "      <th colspan=\"2\" halign=\"left\">rating</th>\n",
       "    </tr>\n",
       "    <tr>\n",
       "      <th></th>\n",
       "      <th></th>\n",
       "      <th>size</th>\n",
       "      <th>mean</th>\n",
       "    </tr>\n",
       "    <tr>\n",
       "      <th>movie_id</th>\n",
       "      <th>title</th>\n",
       "      <th></th>\n",
       "      <th></th>\n",
       "    </tr>\n",
       "  </thead>\n",
       "  <tbody>\n",
       "    <tr>\n",
       "      <th>318</th>\n",
       "      <th>Shawshank Redemption, The (1994)</th>\n",
       "      <td>423</td>\n",
       "      <td>4.492908</td>\n",
       "    </tr>\n",
       "    <tr>\n",
       "      <th>50</th>\n",
       "      <th>Usual Suspects, The (1995)</th>\n",
       "      <td>332</td>\n",
       "      <td>4.459337</td>\n",
       "    </tr>\n",
       "    <tr>\n",
       "      <th>912</th>\n",
       "      <th>Casablanca (1942)</th>\n",
       "      <td>163</td>\n",
       "      <td>4.444785</td>\n",
       "    </tr>\n",
       "    <tr>\n",
       "      <th>904</th>\n",
       "      <th>Rear Window (1954)</th>\n",
       "      <td>129</td>\n",
       "      <td>4.441860</td>\n",
       "    </tr>\n",
       "    <tr>\n",
       "      <th>2019</th>\n",
       "      <th>Seven Samurai (Shichinin no samurai) (1954)</th>\n",
       "      <td>104</td>\n",
       "      <td>4.408654</td>\n",
       "    </tr>\n",
       "  </tbody>\n",
       "</table>\n",
       "</div>"
      ],
      "text/plain": [
       "                                                     rating          \n",
       "                                                       size      mean\n",
       "movie_id title                                                       \n",
       "318      Shawshank Redemption, The (1994)               423  4.492908\n",
       "50       Usual Suspects, The (1995)                     332  4.459337\n",
       "912      Casablanca (1942)                              163  4.444785\n",
       "904      Rear Window (1954)                             129  4.441860\n",
       "2019     Seven Samurai (Shichinin no samurai) (1954)    104  4.408654"
      ]
     },
     "execution_count": 12,
     "metadata": {},
     "output_type": "execute_result"
    }
   ],
   "source": [
    "# しきい値を導入\n",
    "movie_stats = movielens.train.groupby(['movie_id', 'title']).agg({'rating': ['size', 'mean']})\n",
    "atleast_flg = movie_stats['rating']['size'] >= 100\n",
    "movies_sorted_by_rating = movie_stats[atleast_flg].sort_values(by=('rating', 'mean'), ascending=False)\n",
    "movies_sorted_by_rating.head()"
   ]
  },
  {
   "cell_type": "code",
   "execution_count": 15,
   "id": "6c559fdc",
   "metadata": {},
   "outputs": [
    {
     "name": "stderr",
     "output_type": "stream",
     "text": [
      "/app/notebook/../src/popularity.py:15: FutureWarning: The provided callable <function mean at 0x7f1e59f2bd00> is currently using SeriesGroupBy.mean. In a future version of pandas, the provided callable will be used directly. To keep current behavior pass the string \"mean\" instead.\n",
      "  movie_rating_average = dataset.train.groupby(\"movie_id\").agg({\"rating\": np.mean})\n",
      "/app/notebook/../src/popularity.py:25: FutureWarning: The provided callable <function mean at 0x7f1e59f2bd00> is currently using SeriesGroupBy.mean. In a future version of pandas, the provided callable will be used directly. To keep current behavior pass the string \"mean\" instead.\n",
      "  movie_stats = dataset.train.groupby(\"movie_id\").agg({\"rating\": [np.size, np.mean]})\n"
     ]
    }
   ],
   "source": [
    "# 人気度推薦\n",
    "from src.popularity import PopularityRecommender\n",
    "recommender = PopularityRecommender()\n",
    "recommend_result = recommender.recommend(movielens, minimum_num_rating=100)"
   ]
  },
  {
   "cell_type": "code",
   "execution_count": 16,
   "id": "ca8d383f",
   "metadata": {},
   "outputs": [
    {
     "name": "stdout",
     "output_type": "stream",
     "text": [
      "rmse=1.089, Precision@K=0.008, Recall@K=0.025\n"
     ]
    }
   ],
   "source": [
    "#  評価\n",
    "metric_calculator = MetricCalculator()\n",
    "metrics = metric_calculator.calc(\n",
    "    movielens.test.rating.tolist(), recommend_result.rating.tolist(),\n",
    "    movielens.test_user2items, recommend_result.user2items, k=10)\n",
    "print(metrics)"
   ]
  },
  {
   "cell_type": "code",
   "execution_count": 17,
   "id": "fd52c464",
   "metadata": {},
   "outputs": [
    {
     "name": "stderr",
     "output_type": "stream",
     "text": [
      "/app/notebook/../src/popularity.py:15: FutureWarning: The provided callable <function mean at 0x7f1e59f2bd00> is currently using SeriesGroupBy.mean. In a future version of pandas, the provided callable will be used directly. To keep current behavior pass the string \"mean\" instead.\n",
      "  movie_rating_average = dataset.train.groupby(\"movie_id\").agg({\"rating\": np.mean})\n",
      "/app/notebook/../src/popularity.py:25: FutureWarning: The provided callable <function mean at 0x7f1e59f2bd00> is currently using SeriesGroupBy.mean. In a future version of pandas, the provided callable will be used directly. To keep current behavior pass the string \"mean\" instead.\n",
      "  movie_stats = dataset.train.groupby(\"movie_id\").agg({\"rating\": [np.size, np.mean]})\n",
      "/app/notebook/../src/popularity.py:15: FutureWarning: The provided callable <function mean at 0x7f1e59f2bd00> is currently using SeriesGroupBy.mean. In a future version of pandas, the provided callable will be used directly. To keep current behavior pass the string \"mean\" instead.\n",
      "  movie_rating_average = dataset.train.groupby(\"movie_id\").agg({\"rating\": np.mean})\n"
     ]
    },
    {
     "name": "stdout",
     "output_type": "stream",
     "text": [
      "rmse=1.089, Precision@K=0.000, Recall@K=0.000\n",
      "rmse=1.089, Precision@K=0.013, Recall@K=0.040\n"
     ]
    },
    {
     "name": "stderr",
     "output_type": "stream",
     "text": [
      "/app/notebook/../src/popularity.py:25: FutureWarning: The provided callable <function mean at 0x7f1e59f2bd00> is currently using SeriesGroupBy.mean. In a future version of pandas, the provided callable will be used directly. To keep current behavior pass the string \"mean\" instead.\n",
      "  movie_stats = dataset.train.groupby(\"movie_id\").agg({\"rating\": [np.size, np.mean]})\n"
     ]
    }
   ],
   "source": [
    "# しきい値を変更したときの挙動\n",
    "for minimum_num_rating in [1, 200]:\n",
    "    recommend_result = recommender.recommend(movielens, minimum_num_rating=minimum_num_rating)\n",
    "    metrics = metric_calculator.calc(\n",
    "        movielens.test.rating.tolist(), recommend_result.rating.tolist(),\n",
    "        movielens.test_user2items, recommend_result.user2items, k=10)\n",
    "    print(metrics)"
   ]
  },
  {
   "cell_type": "code",
   "execution_count": null,
   "id": "6fb933a8-7714-47ff-8302-c284385163ec",
   "metadata": {},
   "outputs": [],
   "source": []
  }
 ],
 "metadata": {
  "kernelspec": {
   "display_name": "Python 3 (ipykernel)",
   "language": "python",
   "name": "python3"
  },
  "language_info": {
   "codemirror_mode": {
    "name": "ipython",
    "version": 3
   },
   "file_extension": ".py",
   "mimetype": "text/x-python",
   "name": "python",
   "nbconvert_exporter": "python",
   "pygments_lexer": "ipython3",
   "version": "3.10.9"
  }
 },
 "nbformat": 4,
 "nbformat_minor": 5
}
